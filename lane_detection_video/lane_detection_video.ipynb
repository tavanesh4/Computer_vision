{
 "cells": [
  {
   "cell_type": "markdown",
   "metadata": {},
   "source": [
    "## Lane_detection in a video"
   ]
  },
  {
   "cell_type": "markdown",
   "metadata": {},
   "source": [
    "### Importing Libraries"
   ]
  },
  {
   "cell_type": "code",
   "execution_count": 1,
   "metadata": {},
   "outputs": [],
   "source": [
    "import cv2\n",
    "import numpy as np\n",
    "import matplotlib.pyplot as plt"
   ]
  },
  {
   "cell_type": "markdown",
   "metadata": {},
   "source": [
    "#### function to define region of interest in video "
   ]
  },
  {
   "cell_type": "code",
   "execution_count": 2,
   "metadata": {},
   "outputs": [],
   "source": [
    "def region_of_interest(img,vertices):\n",
    "    mask = np.zeros_like(img)\n",
    "    cv2.fillPoly(mask,vertices, 255)\n",
    "    masked_img = cv2.bitwise_and(img, mask)\n",
    "    return masked_img"
   ]
  },
  {
   "cell_type": "markdown",
   "metadata": {},
   "source": [
    "#### function to draw line on region of interest"
   ]
  },
  {
   "cell_type": "code",
   "execution_count": 3,
   "metadata": {},
   "outputs": [],
   "source": [
    "def draw_lines(img,lines):\n",
    "    line_img = np.zeros((img.shape[0],img.shape[1], 3), dtype=np.uint8)\n",
    "    #if lines is not None:\n",
    "    for line in lines:\n",
    "        for x1,y1,x2,y2 in line:\n",
    "            cv2.line(line_img, (x1,y1), (x2,y2), (255,0,255), thickness=4)       \n",
    "    \n",
    "    img = cv2.addWeighted(img, 0.6, line_img, 1, 0)\n",
    "    return img"
   ]
  },
  {
   "cell_type": "markdown",
   "metadata": {},
   "source": [
    "#### function to detect lane with help of Canny edge detection and HoughLinesP modules"
   ]
  },
  {
   "cell_type": "code",
   "execution_count": 4,
   "metadata": {},
   "outputs": [],
   "source": [
    "def lane_detect(img):\n",
    "    height = img.shape[0]\n",
    "    width = img.shape[1]\n",
    "    #points = [(0,height), (width/2,330), (width,height)] #(50,130) for 'solidWhiteRight.mp4', 'solidYellowLeft.mp4' n 'test2.mp4'\n",
    "    points = [(0,650), (width/4,420), (3*width/4,420), (width,650)] #(100,200) for 'lane.mp4'\n",
    "    \n",
    "    img_gray = cv2.cvtColor(img, cv2.COLOR_RGB2GRAY)\n",
    "    img_blurr = cv2.GaussianBlur(img_gray,(5,5),0)\n",
    "    img_canny = cv2.Canny(img_blurr, 100, 200, 3) \n",
    "    cropped_img = region_of_interest(img_canny, np.array([points], np.int32))\n",
    "    \n",
    "    lines = cv2.HoughLinesP(cropped_img, rho=2, \n",
    "                        theta=np.pi/180, \n",
    "                        threshold=50, \n",
    "                        lines=np.array([]),\n",
    "                        minLineLength=50, \n",
    "                        maxLineGap=15)\n",
    "    #if lines is not None:\n",
    "    #    detect_lane = img\n",
    "    #else:\n",
    "    detect_lane = draw_lines(img,lines)\n",
    "    \n",
    "    return detect_lane"
   ]
  },
  {
   "cell_type": "markdown",
   "metadata": {},
   "source": [
    "#### Reading input video file"
   ]
  },
  {
   "cell_type": "code",
   "execution_count": 5,
   "metadata": {},
   "outputs": [],
   "source": [
    "video = cv2.VideoCapture(\"lane.mp4\")"
   ]
  },
  {
   "cell_type": "markdown",
   "metadata": {},
   "source": [
    "#### Showing detected lines on road lanes"
   ]
  },
  {
   "cell_type": "code",
   "execution_count": 6,
   "metadata": {
    "scrolled": true
   },
   "outputs": [],
   "source": [
    "while(video.isOpened()):\n",
    "    ret, frame = video.read()\n",
    "    frame = lane_detect(frame)\n",
    "    #frame = cv2.cvtColor(frame, cv2.COLOR_BGR2GRAY)\n",
    "    #print(frame.shape)\n",
    "    cv2.imshow('lane',frame)\n",
    "    if cv2.waitKey(25) & 0XFF == ord('e'):\n",
    "        break\n",
    "\n",
    "video.release()\n",
    "cv2.destroyAllWindows()\n"
   ]
  },
  {
   "cell_type": "code",
   "execution_count": null,
   "metadata": {},
   "outputs": [],
   "source": []
  }
 ],
 "metadata": {
  "kernelspec": {
   "display_name": "Python 3",
   "language": "python",
   "name": "python3"
  },
  "language_info": {
   "codemirror_mode": {
    "name": "ipython",
    "version": 3
   },
   "file_extension": ".py",
   "mimetype": "text/x-python",
   "name": "python",
   "nbconvert_exporter": "python",
   "pygments_lexer": "ipython3",
   "version": "3.6.10"
  }
 },
 "nbformat": 4,
 "nbformat_minor": 4
}
