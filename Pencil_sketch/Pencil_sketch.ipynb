{
 "cells": [
  {
   "cell_type": "code",
   "execution_count": 1,
   "metadata": {},
   "outputs": [],
   "source": [
    "#Importing Libraries\n",
    "\n",
    "import cv2\n",
    "import sys"
   ]
  },
  {
   "cell_type": "code",
   "execution_count": 2,
   "metadata": {},
   "outputs": [],
   "source": [
    "#Reading image and converting from RGB to gray scale image\n",
    "\n",
    "img_rgb = cv2.imread('ferrari car.jpg')\n",
    "\n",
    "img_gray = cv2.cvtColor(img_rgb, cv2.COLOR_BGR2GRAY)"
   ]
  },
  {
   "cell_type": "code",
   "execution_count": 3,
   "metadata": {},
   "outputs": [],
   "source": [
    "#Inverting image of gray scale\n",
    "\n",
    "img_gray_inv = 255 - img_gray"
   ]
  },
  {
   "cell_type": "code",
   "execution_count": 4,
   "metadata": {},
   "outputs": [],
   "source": [
    "#applying GaussianBlur on inverted gray scale image\n",
    "\n",
    "img_blur = cv2.GaussianBlur(img_gray_inv, ksize=(21,21), sigmaX=0, sigmaY=0)"
   ]
  },
  {
   "cell_type": "code",
   "execution_count": 5,
   "metadata": {},
   "outputs": [],
   "source": [
    "#output of image\n",
    "\n",
    "output = cv2.divide(img_gray, 255-img_blur, scale=256)"
   ]
  },
  {
   "cell_type": "code",
   "execution_count": 6,
   "metadata": {},
   "outputs": [],
   "source": [
    "#cv2.namedWindow('image', cv2.WINDOW_AUTOSIZE)\n",
    "\n",
    "#cv2.namedWindow('pencil_sketch', cv2.WINDOW_AUTOSIZE)"
   ]
  },
  {
   "cell_type": "code",
   "execution_count": 7,
   "metadata": {},
   "outputs": [],
   "source": [
    "# displaying original and Pencil_sketch image\n",
    "\n",
    "cv2.imshow('image', img_rgb)\n",
    "\n",
    "cv2.imshow('pencil_sketch', output)\n",
    "\n",
    "cv2.waitKey(0)\n",
    "\n",
    "cv2.destroyAllWindows()"
   ]
  }
 ],
 "metadata": {
  "kernelspec": {
   "display_name": "Python 3",
   "language": "python",
   "name": "python3"
  },
  "language_info": {
   "codemirror_mode": {
    "name": "ipython",
    "version": 3
   },
   "file_extension": ".py",
   "mimetype": "text/x-python",
   "name": "python",
   "nbconvert_exporter": "python",
   "pygments_lexer": "ipython3",
   "version": "3.6.10"
  }
 },
 "nbformat": 4,
 "nbformat_minor": 4
}
